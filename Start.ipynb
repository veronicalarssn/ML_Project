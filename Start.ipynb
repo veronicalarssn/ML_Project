{
 "cells": [
  {
   "cell_type": "markdown",
   "id": "faa882a1",
   "metadata": {},
   "source": [
    "# Logo Recognition Algorithm with Flickr Logos Training Data"
   ]
  },
  {
   "cell_type": "markdown",
   "id": "7ab3deb8",
   "metadata": {},
   "source": [
    "We chose to use data copied from: http://www.image.ntua.gr/iva/datasets/flickr_logos/\n",
    "\n",
    "The Flickr Logos 27 dataset is an annotated logo dataset downloaded from Flickr and contains more than four thousand classes in total. It consists of **three image collections/sets**.\n",
    "\n",
    "+ **The training set** contains **810 annotated images**, corresponding to **27 logo classes/brands (30 images for each class)**. All images are annotated with bounding boxes of the logo instances in the image. We allow multiple logo instances per class image. The training set is randomly split in six subsets, each one containing five images per class.\n",
    "\n",
    "+ **The distractor set contains 4207 logo images/classes**, that depict, in most cases, clean logos. All images come from the Flickr group Identity + Logo Design. Each one of the distractor set images defines its own logo class and we regard the whole image as bounding box.\n",
    "\n",
    "+ Finally, **the query set consists of 270 images**. There are five images for each of the 27 annotated classes, summing up to 135 images that contain logos. Furthermore, the query set contains 135 Flickr images that do not depict any logo class, giving 270 test images in total.\n",
    "\n",
    "The brands included in the dataset are: Adidas, Apple, BMW, Citroen, Coca Cola, DHL, Fedex, Ferrari, Ford, Google, Heineken, HP, McDonalds, Mini, Nbc, Nike, Pepsi, Porsche, Puma, Red Bull, Sprite, Starbucks, Intel, Texaco, Unisef, Vodafone and Yahoo."
   ]
  },
  {
   "cell_type": "markdown",
   "id": "ba430f51",
   "metadata": {},
   "source": [
    "## Ideas for further developing project\n",
    "\n",
    "+ Idea for title \"Examining the impact of various preprocessing steps on accuracy of an ML model\"\n",
    "\n",
    "+ Compare the impact of augmentation (and with that also the increase in data) on accuracy of model\n",
    "\n",
    "+ Compare the improvement of accuracy when keeping color vs grey-scale and evaluate the tradeoff in terms of computing capacity\n",
    "\n",
    "+ Compare the improvement of accuracy for different dimension sizes --> trade-off, a certain specificity is needed to find the uniqueness of the logo, but too many dimensions can lead to poorer applicability to different scenarios.\n"
   ]
  },
  {
   "cell_type": "markdown",
   "id": "b7984c69",
   "metadata": {},
   "source": [
    "### Step 1: Accessing Raw Images Data"
   ]
  },
  {
   "cell_type": "code",
   "execution_count": 1,
   "id": "4041f4ad",
   "metadata": {},
   "outputs": [],
   "source": [
    "import pandas as pd\n",
    "import numpy as np\n",
    "import matplotlib.pyplot as plt\n",
    "import tensorflow as tf\n",
    "from tensorflow.keras.models import Sequential\n",
    "from tensorflow import keras \n",
    "import tarfile\n",
    "import os\n",
    "from PIL import Image\n",
    "import PIL.ImageEnhance as ImageEnhance\n",
    "import requests\n",
    "from concurrent.futures import ThreadPoolExecutor\n",
    "from sklearn.preprocessing import MinMaxScaler\n",
    "from sklearn.preprocessing import LabelEncoder\n",
    "from torchvision import transforms"
   ]
  },
  {
   "cell_type": "code",
   "execution_count": 5,
   "id": "17e8d01d",
   "metadata": {},
   "outputs": [],
   "source": [
    "# \"\"\"Accessing Data (41.9s)\"\"\"\n",
    "\n",
    "# url = \"http://image.ntua.gr/iva/datasets/flickr_logos/flickr_logos_27_dataset.tar.gz\"\n",
    "# response = requests.get(url) # Send a get request to the URL\n",
    "# content = response.content #content in bytes\n",
    "\n",
    "# #saving the main file to specified directory with name \"flickr27.tar\"\n",
    "# filename = \"flickr27.tar\"\n",
    "# macbookuser = input(\"I am a macbook user (yes/no): \")\n",
    "# if macbookuser == \"yes\":\n",
    "#     specified_directory = input(\"Specify the path to the directory for which you want to store file (make sure to add / or \\ at the end): \") #/Users/veronicalarsson/Downloads/\n",
    "#     image_path = \"flickr_logos_27_dataset/flickr_logos_27_dataset_images.tar.gz\"\n",
    "#     directory_separator = '/'\n",
    "# else:\n",
    "#     specified_direcotory = \"r\" + input(\"Specify the path to the directory for which you want to store file (make sure to add / or \\ at the end): \")\n",
    "#     image_path = \"flickr_logos_27_dataset\\flickr_logos_27_dataset_images.tar.gz\"\n",
    "#     directory_separator = '\\\\'\n",
    "\n",
    "# with open(specified_directory + filename, \"wb\") as file: #the file will be opened for writing in binary (b) mode, allowing you to write (w) binary data directly to the file\n",
    "#     file.write(content) #writing content to the specified filename with associated path\n",
    "\n",
    "\n",
    "# #to access the files, we need to open the main tar file, we then store the unzipped files in a new directory\n",
    "# tar_file_path = specified_directory + filename #path to tar.gz file\n",
    "# unzipped_path = specified_directory + \"unzipped\" #new path to unzipped content\n",
    "\n",
    "# with tarfile.open(tar_file_path, 'r:gz') as tar: #Open the tar.gz file and store all content in folder with specified path name\n",
    "#     tar.extractall(path= unzipped_path) \n",
    "\n",
    "\n",
    "# #again we need to open a second tar file within the unzipped tar file for getting the raw images, we then store them in a new directory:\n",
    "# tar_file_path_2 = unzipped_path + directory_separator + image_path\n",
    "# unzipped_images_path= specified_directory + \"unzipped_images\"\n",
    "\n",
    "# with tarfile.open(tar_file_path_2, 'r:gz') as tar:\n",
    "#     tar.extractall(directory_separator + unzipped_images_path) #Extract all contents to a newly created directory"
   ]
  },
  {
   "cell_type": "code",
   "execution_count": 2,
   "id": "b2dd0628",
   "metadata": {},
   "outputs": [
    {
     "ename": "NameError",
     "evalue": "name 'unzipped_images_path' is not defined",
     "output_type": "error",
     "traceback": [
      "\u001b[0;31m---------------------------------------------------------------------------\u001b[0m",
      "\u001b[0;31mNameError\u001b[0m                                 Traceback (most recent call last)",
      "\u001b[1;32m/veronicalarssn/ML_Project/Start.ipynb Cell 7\u001b[0m line \u001b[0;36m4\n\u001b[1;32m      <a href='vscode-notebook-cell://github/veronicalarssn/ML_Project/Start.ipynb#W6sdnNjb2RlLXZmcw%3D%3D?line=0'>1</a>\u001b[0m \u001b[39m\"\"\"Getting df with all filenames and images (missing labels at this stage)\"\"\"\u001b[39;00m\n\u001b[1;32m      <a href='vscode-notebook-cell://github/veronicalarssn/ML_Project/Start.ipynb#W6sdnNjb2RlLXZmcw%3D%3D?line=2'>3</a>\u001b[0m \u001b[39m# Path to directory containing image files\u001b[39;00m\n\u001b[0;32m----> <a href='vscode-notebook-cell://github/veronicalarssn/ML_Project/Start.ipynb#W6sdnNjb2RlLXZmcw%3D%3D?line=3'>4</a>\u001b[0m image_directory \u001b[39m=\u001b[39m unzipped_images_path\u001b[39m+\u001b[39m directory_separator \u001b[39m+\u001b[39m\u001b[39m'\u001b[39m\u001b[39mflickr_logos_27_dataset_images\u001b[39m\u001b[39m'\u001b[39m \u001b[39m#example: r'C:\\Users\\EmiliaGachowetz-Gepp\\Documents\\New ML\\images\\flickr_logos_27_dataset_images'\u001b[39;00m\n\u001b[1;32m      <a href='vscode-notebook-cell://github/veronicalarssn/ML_Project/Start.ipynb#W6sdnNjb2RlLXZmcw%3D%3D?line=5'>6</a>\u001b[0m \u001b[39m# List of all files (images) in the directory\u001b[39;00m\n\u001b[1;32m      <a href='vscode-notebook-cell://github/veronicalarssn/ML_Project/Start.ipynb#W6sdnNjb2RlLXZmcw%3D%3D?line=6'>7</a>\u001b[0m image_filenames \u001b[39m=\u001b[39m [f \u001b[39mfor\u001b[39;00m f \u001b[39min\u001b[39;00m os\u001b[39m.\u001b[39mlistdir(image_directory) \u001b[39mif\u001b[39;00m os\u001b[39m.\u001b[39mpath\u001b[39m.\u001b[39misfile(os\u001b[39m.\u001b[39mpath\u001b[39m.\u001b[39mjoin(image_directory, f))]\n",
      "\u001b[0;31mNameError\u001b[0m: name 'unzipped_images_path' is not defined"
     ]
    }
   ],
   "source": [
    "# \"\"\"Getting df with all filenames and images (missing labels at this stage)\"\"\"\n",
    "\n",
    "# # Path to directory containing image files\n",
    "# image_directory = unzipped_images_path+ directory_separator +'flickr_logos_27_dataset_images' #example: r'C:\\Users\\EmiliaGachowetz-Gepp\\Documents\\New ML\\images\\flickr_logos_27_dataset_images'\n",
    "\n",
    "# # List of all files (images) in the directory\n",
    "# image_filenames = [f for f in os.listdir(image_directory) if os.path.isfile(os.path.join(image_directory, f))]\n",
    "\n",
    "# # Function to process images and store them in a DataFrame\n",
    "# def process_images(image_directory, image_filenames):\n",
    "#     image_data = []  # List to store image data\n",
    "\n",
    "#     for filename in image_filenames:\n",
    "#         try:\n",
    "#             image_path = os.path.join(image_directory, filename)  # Construct the full path to the image file\n",
    "#             img = Image.open(image_path)  # Open the image using Pillow (PIL)\n",
    "#             img = img.convert('L') #Converting to gray scale\n",
    "#             img_resized = img.resize((100, 100), Image.LANCZOS)  # Resize the image to 100x100 pixels\n",
    "#             # img_array = np.array(img_resized) # Convert image to numpy array if needed\n",
    "#             image_data.append({'Filename': filename, 'Image': img_resized})\n",
    "\n",
    "#         except Exception as e:\n",
    "#             # Handle errors (e.g., if the image cannot be processed)\n",
    "#             print(f\"Error processing image {filename}: {e}\")\n",
    "\n",
    "#     # Convert the list of dictionaries to a DataFrame\n",
    "#     image_df = pd.DataFrame(image_data)\n",
    "#     return image_df\n",
    "\n",
    "# # Call the function to process images and store them in a DataFrame\n",
    "# image_df = process_images(image_directory, image_filenames)\n",
    "# image_df.head()\n"
   ]
  },
  {
   "cell_type": "code",
   "execution_count": null,
   "id": "f0b60826",
   "metadata": {},
   "outputs": [],
   "source": [
    "# Selecting one picture from the DataFrame\n",
    "some_pic = image_df['Image'].iloc[0]\n",
    "\n",
    "# Display the image using matplotlib\n",
    "plt.imshow(some_pic, interpolation=\"lanczos\")\n",
    "plt.axis(\"off\")\n",
    "plt.show()"
   ]
  },
  {
   "cell_type": "markdown",
   "id": "21901478",
   "metadata": {},
   "source": [
    "### Step 2: Saving data and associated labels in images_info:\n",
    "\n",
    "The data frame is built like this:\n",
    "\n",
    "+ Image filename (unique ID)\n",
    "\n",
    "+ Class name (i.e. the label)\n",
    "\n",
    "+ Training subset of class (1,...,6)\n",
    "\n",
    "+ Coordinates of the top left and bottom right corners (x1 y1 x2 y2)\n",
    "\n",
    "(x1 = top left horizontal, y1 = top left vertical, x2 = bottom right horizontal, y2 = bottom right vertical)"
   ]
  },
  {
   "cell_type": "code",
   "execution_count": null,
   "id": "06b87a60",
   "metadata": {
    "scrolled": true
   },
   "outputs": [],
   "source": [
    "#2. read csv which contains information about images\n",
    "info =pd.read_csv(unzipped_path + directory_separator + 'flickr_logos_27_dataset/flickr_logos_27_dataset_training_set_annotation.txt', sep='\\s+', header=None)\n",
    "\n",
    "#renaming the columns in images_info:\n",
    "new_column_names = ['Filename', 'Label', 'Subset', 'x1', 'y1','x2', 'y2']\n",
    "info.columns=new_column_names\n",
    "#info.head()\n",
    "\n",
    "#merging the df with the image_df\n",
    "image_df = image_df.merge(info, how = 'inner', on = 'Filename')\n",
    "image_df = image_df[['Filename', 'Image', 'Label']]\n",
    "image_df"
   ]
  },
  {
   "cell_type": "markdown",
   "id": "8e1d409f",
   "metadata": {},
   "source": [
    "### Step 3: Augmenting the image_df data\n",
    "\n",
    "Data augmentation is a technique used in machine learning and deep learning to artificially increase the size of a training dataset by applying various transformations to the existing data. The goal is to enhance the model's generalization ability, robustness, and performance by exposing it to a more diverse set of examples during training. This technique is particularly useful when the available dataset is limited.\n",
    "\n",
    "Common data augmentation techniques include:\n",
    "\n",
    "1. **Rotation:** Rotating images by a certain degree.\n",
    "2. **Flip:** Flipping images horizontally or vertically.\n",
    "3. **Zoom:** Zooming in or out of images.\n",
    "4. **Translation:** Shifting images horizontally or vertically.\n",
    "5. **Shear:** Applying a shearing transformation to images.\n",
    "6. **Brightness and Contrast Adjustment:** Changing the brightness and contrast of images.\n",
    "7. **Noise Injection:** Adding random noise to images.\n",
    "8. **Color Jittering:** Adjusting the color values of images.\n",
    "\n",
    "For example, in image classification tasks, if you have a dataset of cat images, you can apply data augmentation to generate variations of the same images by rotating, flipping, zooming, or changing their colors. This way, the model sees different perspectives of the same data during training, which can help it become more robust to variations and improve its performance on new, unseen data.\n",
    "\n",
    "In deep learning frameworks and libraries, there are often built-in tools or functions for applying data augmentation during the training process. This allows practitioners to easily incorporate these transformations into their pipelines without manually creating augmented datasets."
   ]
  },
  {
   "cell_type": "code",
   "execution_count": null,
   "id": "8fd2f05b",
   "metadata": {},
   "outputs": [],
   "source": [
    "\"\"\"Augmenting and scaling all images (25m 12.3s with 270x270) --> (4m 12.6s with 100x100) --> (8m+ with 100x100 RGB)\"\"\"\n",
    "transform = transforms.ToTensor()\n",
    "\n",
    "def augment_images(images_df):\n",
    "    '''This function crops, rotates, and scales images and saves them in the specified output folder'''\n",
    "    dataframes = []  # List to store DataFrames\n",
    "    scaler = MinMaxScaler()\n",
    "\n",
    "    for index, row in images_df.iterrows(): # Loop through each row in the augmented DataFrame\n",
    "        filename = row['Filename']\n",
    "        #x1, y1, x2, y2 = row['x1'], row['y1'], row['x2'], row['y2']\n",
    "\n",
    "        # Find the original image from the images DataFrame\n",
    "        original_image_row = images_df[images_df['Filename'] == filename].iloc[0]\n",
    "        original_image = original_image_row['Image']\n",
    "\n",
    "        # Rotate, scale, and crop the image\n",
    "        operations = ['original', 'rotated', 'scaled', 'top-bottom flipped']\n",
    "        images = [original_image, \n",
    "                  original_image.rotate(45), \n",
    "                  original_image.resize((int(original_image.width * 1.5), int(original_image.height * 1.5))), \n",
    "                  original_image.transpose(Image.FLIP_TOP_BOTTOM)\n",
    "                  ]\n",
    "\n",
    "        for i in range(len(operations)):\n",
    "            op = operations[i]\n",
    "            img = images[i]\n",
    "            img = img.resize((100, 100), Image.LANCZOS)\n",
    "            img_array = np.array(img).flatten() # Flatten the pixel array\n",
    "            img_scaled = scaler.fit_transform(img_array.reshape(-1, 1)).flatten # Scale pixel values to range [0, 1]\n",
    "            data = {'Filename': [filename], 'Operation': [op]}\n",
    "            data['Pixels'] = img_scaled\n",
    "            for j in range(len(img_array)):\n",
    "                data[f'Pixel_{j}'] = [img_array[j]] # Create a separate column for each scaled pixel\n",
    "            df = pd.DataFrame(data)\n",
    "            dataframes.append(df)\n",
    "\n",
    "    # Concatenate all DataFrames in the list\n",
    "    modified_df = pd.concat(dataframes, ignore_index=True)\n",
    "    return modified_df\n",
    "\n",
    "# Storing the augmented df\n",
    "labelled_augmented_df = augment_images(image_df)\n",
    "labelled_augmented_df = pd.merge(labelled_augmented_df, images_info, on='Filename', how='inner')\n",
    "labelled_augmented_df.head(10)"
   ]
  },
  {
   "cell_type": "code",
   "execution_count": null,
   "id": "2287ca54",
   "metadata": {},
   "outputs": [],
   "source": [
    "from sklearn.preprocessing import LabelEncoder\n",
    "\n",
    "# Encoding label\n",
    "label_encoder = LabelEncoder()\n",
    "labelled_augmented_df['Label_Encoded'] = label_encoder.fit_transform(labelled_augmented_df['Label'])\n",
    "\n",
    "# Dropping unnecessary columns from the merged DataFrame\n",
    "training_df = labelled_augmented_df.drop(columns=['Filename', 'Operation', 'Subset', 'x1', 'y1', 'x2', 'y2'])\n",
    "\n",
    "print(\"Merged DataFrame with encoded labels:\")\n",
    "training_df.head()"
   ]
  },
  {
   "cell_type": "code",
   "execution_count": null,
   "id": "f9970914",
   "metadata": {},
   "outputs": [],
   "source": [
    "\"\"\"Saving scaled (0-1) training data (22m 22.5s with 270x270 data) (1m 56.7s with 100x100)\"\"\"\n",
    "#training_df.to_csv(specified_directory + 'model_data.csv', index = False) --> name for 270, 270 pixels data (51529 features)\n",
    "#training_df.to_csv(specified_directory + 'model_data_100x100.csv', index = False) #--> name for 100,100 pixels data"
   ]
  },
  {
   "cell_type": "markdown",
   "id": "42c8ace5",
   "metadata": {},
   "source": [
    "### Loading New Dataset (Step 1)"
   ]
  },
  {
   "cell_type": "code",
   "execution_count": 1,
   "id": "78bec07f",
   "metadata": {},
   "outputs": [],
   "source": [
    "import pandas as pd\n",
    "import numpy as np\n",
    "import matplotlib.pyplot as plt\n",
    "import tensorflow as tf\n",
    "from tensorflow.keras.models import Sequential\n",
    "from tensorflow import keras \n",
    "import tarfile\n",
    "import os\n",
    "from PIL import Image\n",
    "import PIL.ImageEnhance as ImageEnhance\n",
    "import requests\n",
    "from concurrent.futures import ThreadPoolExecutor\n",
    "from sklearn.preprocessing import MinMaxScaler\n",
    "from sklearn.preprocessing import LabelEncoder\n",
    "from torchvision import transforms"
   ]
  },
  {
   "cell_type": "code",
   "execution_count": 2,
   "id": "c5072c4a",
   "metadata": {},
   "outputs": [
    {
     "ename": "",
     "evalue": "",
     "output_type": "error",
     "traceback": [
      "\u001b[1;31mThe Kernel crashed while executing code in the the current cell or a previous cell. Please review the code in the cell(s) to identify a possible cause of the failure. Click <a href='https://aka.ms/vscodeJupyterKernelCrash'>here</a> for more info. View Jupyter <a href='command:jupyter.viewOutput'>log</a> for further details."
     ]
    }
   ],
   "source": [
    "\"\"\"Getting df with all filenames and images (missing labels at this stage)\"\"\"\n",
    "# (150,150) grayscale --> 2m 28.9s\n",
    "# (150,150) rgb, with pixels as cols --> \n",
    "\n",
    "def load_images_from_folder(folder_path, image_size=(150, 150)):\n",
    "    images = []\n",
    "    \n",
    "    # Recursively traverse through the folder structure\n",
    "    for root, dirs, files in os.walk(folder_path):\n",
    "        for filename in files:\n",
    "            # Get the full path of the file\n",
    "            file_path = os.path.join(root, filename)\n",
    "            \n",
    "            # Check if the file is an image\n",
    "            if any(filename.endswith(extension) for extension in ['.jpg', '.jpeg', '.png', '.gif']):\n",
    "                # Load the image using PIL (Python Imaging Library)\n",
    "                try:\n",
    "                    with Image.open(file_path) as img:\n",
    "                        img = img.resize(image_size) #resizing image\n",
    "                        #img = img.convert('L') #Converting to gray scale\n",
    "                        img_array = np.array(img) / 255.0 # Convert the image to numpy array and normalize pixel values\n",
    "                        images.append({'Filename': filename, 'Image': img_array}) # Append the image array to the list\n",
    "                except Exception as e:\n",
    "                    print(f\"Error loading image '{file_path}': {e}\")\n",
    "    \n",
    "    # Convert the list of dictionaries to a DataFrame\n",
    "    images_df = pd.DataFrame(images)\n",
    "    return images_df\n",
    "\n",
    "# Loading\n",
    "folder_path = '/Users/veronicalarsson/Downloads/datasetcopy/trainandtest/train'\n",
    "image_df = load_images_from_folder(folder_path)\n",
    "print('Image Dataframe: \\n \\n', image_df.head())"
   ]
  },
  {
   "cell_type": "code",
   "execution_count": 3,
   "id": "eaf9a13e",
   "metadata": {},
   "outputs": [
    {
     "data": {
      "image/png": "[encoded data removed]",
      "text/plain": [
       "<Figure size 640x480 with 1 Axes>"
      ]
     },
     "metadata": {},
     "output_type": "display_data"
    }
   ],
   "source": [
    "# Selecting one picture from the DataFrame\n",
    "some_pic = image_df['Image'].iloc[0]\n",
    "\n",
    "# Display the image using matplotlib\n",
    "plt.imshow(some_pic, interpolation=\"lanczos\")\n",
    "plt.axis(\"off\")\n",
    "plt.show()"
   ]
  },
  {
   "cell_type": "code",
   "execution_count": 22,
   "id": "8dd62263",
   "metadata": {},
   "outputs": [
    {
     "ename": "",
     "evalue": "",
     "output_type": "error",
     "traceback": [
      "\u001b[1;31mThe Kernel crashed while executing code in the the current cell or a previous cell. Please review the code in the cell(s) to identify a possible cause of the failure. Click <a href='https://aka.ms/vscodeJupyterKernelCrash'>here</a> for more info. View Jupyter <a href='command:jupyter.viewOutput'>log</a> for further details."
     ]
    }
   ],
   "source": [
    "\"\"\"Augmenting and scaling all images ( with 150x150, gray) --> kernel crashed\"\"\"\n",
    "\n",
    "def augment_images(images_df):\n",
    "    '''This function crops, rotates, and scales images and saves them in the specified output folder'''\n",
    "    dataframes = []  # List to store DataFrames\n",
    "    scaler = MinMaxScaler()\n",
    "\n",
    "    for index, row in images_df.iterrows(): # Loop through each row in the augmented DataFrame\n",
    "        filename = row['Filename']\n",
    "\n",
    "        # Find the original image from the images DataFrame\n",
    "        original_image_row = images_df[images_df['Filename'] == filename].iloc[0]\n",
    "        original_image = original_image_row['Image']\n",
    "\n",
    "        # Rotate, scale, and crop the image\n",
    "        operations = ['original', 'rotated', 'scaled', 'top-bottom flipped']\n",
    "        images = [original_image, \n",
    "                  original_image.rotate(45), \n",
    "                  original_image.resize((int(original_image.width * 1.5), int(original_image.height * 1.5))), \n",
    "                  original_image.transpose(Image.FLIP_TOP_BOTTOM)\n",
    "                  ]\n",
    "\n",
    "        for i in range(len(operations)):\n",
    "            op = operations[i]\n",
    "            img = images[i]\n",
    "            img = img.resize((100, 100), Image.LANCZOS)\n",
    "            img_array = np.array(img).flatten() # Flatten the pixel array\n",
    "            img_scaled = scaler.fit_transform(img_array.reshape(-1, 1)).flatten # Scale pixel values to range [0, 1]\n",
    "            data = {'Filename': [filename], 'Operation': [op]}\n",
    "            data['Pixels'] = img_scaled\n",
    "            for j in range(len(img_array)):\n",
    "                data[f'Pixel_{j}'] = [img_array[j]] # Create a separate column for each scaled pixel\n",
    "            df = pd.DataFrame(data)\n",
    "            dataframes.append(df)\n",
    "\n",
    "    # Concatenate all DataFrames in the list\n",
    "    modified_df = pd.concat(dataframes, ignore_index=True)\n",
    "    return modified_df\n",
    "\n",
    "# Storing the augmented df\n",
    "labelled_augmented_df = augment_images(image_df)\n",
    "#labelled_augmented_df = pd.merge(labelled_augmented_df, images_info, on='Filename', how='inner')\n",
    "print(labelled_augmented_df.head(10))"
   ]
  },
  {
   "cell_type": "code",
   "execution_count": 4,
   "id": "fa374a01",
   "metadata": {},
   "outputs": [
    {
     "name": "stdout",
     "output_type": "stream",
     "text": [
      "Label-Translator Dataframe: \n",
      " \n",
      "      Label Filename\n",
      "0  24seven    1.jpg\n",
      "1  24seven   10.jpg\n",
      "2  24seven   11.jpg\n",
      "3  24seven   14.jpg\n",
      "4  24seven   16.jpg\n"
     ]
    },
    {
     "ename": "KeyboardInterrupt",
     "evalue": "",
     "output_type": "error",
     "traceback": [
      "\u001b[0;31m---------------------------------------------------------------------------\u001b[0m",
      "\u001b[0;31mKeyboardInterrupt\u001b[0m                         Traceback (most recent call last)",
      "\u001b[0;32m/var/folders/pz/8dk8k_ld1bl3f5d2d_5br0300000gn/T/ipykernel_37524/261057890.py\u001b[0m in \u001b[0;36m?\u001b[0;34m()\u001b[0m\n\u001b[1;32m      5\u001b[0m \u001b[0mlabeltranslator\u001b[0m \u001b[0;34m=\u001b[0m \u001b[0mpd\u001b[0m\u001b[0;34m.\u001b[0m\u001b[0mread_csv\u001b[0m\u001b[0;34m(\u001b[0m\u001b[0mlabel_path\u001b[0m\u001b[0;34m,\u001b[0m \u001b[0msep\u001b[0m \u001b[0;34m=\u001b[0m \u001b[0;34m'/'\u001b[0m\u001b[0;34m,\u001b[0m \u001b[0mheader\u001b[0m \u001b[0;34m=\u001b[0m \u001b[0;32mNone\u001b[0m\u001b[0;34m,\u001b[0m \u001b[0mnames\u001b[0m \u001b[0;34m=\u001b[0m \u001b[0;34m[\u001b[0m\u001b[0;34m'Label'\u001b[0m\u001b[0;34m,\u001b[0m\u001b[0;34m'Filename'\u001b[0m\u001b[0;34m]\u001b[0m\u001b[0;34m)\u001b[0m\u001b[0;34m\u001b[0m\u001b[0;34m\u001b[0m\u001b[0m\n\u001b[1;32m      6\u001b[0m \u001b[0mprint\u001b[0m\u001b[0;34m(\u001b[0m\u001b[0;34m'Label-Translator Dataframe: \\n \\n'\u001b[0m\u001b[0;34m,\u001b[0m \u001b[0mlabeltranslator\u001b[0m\u001b[0;34m.\u001b[0m\u001b[0mhead\u001b[0m\u001b[0;34m(\u001b[0m\u001b[0;34m)\u001b[0m\u001b[0;34m)\u001b[0m\u001b[0;34m\u001b[0m\u001b[0;34m\u001b[0m\u001b[0m\n\u001b[1;32m      7\u001b[0m \u001b[0;34m\u001b[0m\u001b[0m\n\u001b[1;32m      8\u001b[0m \u001b[0;31m# Merging\u001b[0m\u001b[0;34m\u001b[0m\u001b[0;34m\u001b[0m\u001b[0m\n\u001b[0;32m----> 9\u001b[0;31m \u001b[0mmerged_df\u001b[0m \u001b[0;34m=\u001b[0m \u001b[0mimage_df\u001b[0m\u001b[0;34m.\u001b[0m\u001b[0mmerge\u001b[0m\u001b[0;34m(\u001b[0m\u001b[0mright\u001b[0m \u001b[0;34m=\u001b[0m \u001b[0mlabeltranslator\u001b[0m\u001b[0;34m,\u001b[0m \u001b[0mhow\u001b[0m \u001b[0;34m=\u001b[0m \u001b[0;34m'inner'\u001b[0m\u001b[0;34m,\u001b[0m \u001b[0mon\u001b[0m \u001b[0;34m=\u001b[0m \u001b[0;34m'Filename'\u001b[0m\u001b[0;34m)\u001b[0m\u001b[0;34m\u001b[0m\u001b[0;34m\u001b[0m\u001b[0m\n\u001b[0m\u001b[1;32m     10\u001b[0m \u001b[0mprint\u001b[0m\u001b[0;34m(\u001b[0m\u001b[0;34m'Merged Dataframe: \\n \\n'\u001b[0m\u001b[0;34m,\u001b[0m \u001b[0mmerged_df\u001b[0m\u001b[0;34m.\u001b[0m\u001b[0mhead\u001b[0m\u001b[0;34m(\u001b[0m\u001b[0;34m)\u001b[0m\u001b[0;34m)\u001b[0m\u001b[0;34m\u001b[0m\u001b[0;34m\u001b[0m\u001b[0m\n",
      "\u001b[0;32m/Library/Frameworks/Python.framework/Versions/3.12/lib/python3.12/site-packages/pandas/core/frame.py\u001b[0m in \u001b[0;36m?\u001b[0;34m(self, right, how, on, left_on, right_on, left_index, right_index, sort, suffixes, copy, indicator, validate)\u001b[0m\n\u001b[1;32m  10815\u001b[0m         \u001b[0mvalidate\u001b[0m\u001b[0;34m:\u001b[0m \u001b[0mMergeValidate\u001b[0m \u001b[0;34m|\u001b[0m \u001b[0;32mNone\u001b[0m \u001b[0;34m=\u001b[0m \u001b[0;32mNone\u001b[0m\u001b[0;34m,\u001b[0m\u001b[0;34m\u001b[0m\u001b[0;34m\u001b[0m\u001b[0m\n\u001b[1;32m  10816\u001b[0m     \u001b[0;34m)\u001b[0m \u001b[0;34m->\u001b[0m \u001b[0mDataFrame\u001b[0m\u001b[0;34m:\u001b[0m\u001b[0;34m\u001b[0m\u001b[0;34m\u001b[0m\u001b[0m\n\u001b[1;32m  10817\u001b[0m         \u001b[0;32mfrom\u001b[0m \u001b[0mpandas\u001b[0m\u001b[0;34m.\u001b[0m\u001b[0mcore\u001b[0m\u001b[0;34m.\u001b[0m\u001b[0mreshape\u001b[0m\u001b[0;34m.\u001b[0m\u001b[0mmerge\u001b[0m \u001b[0;32mimport\u001b[0m \u001b[0mmerge\u001b[0m\u001b[0;34m\u001b[0m\u001b[0;34m\u001b[0m\u001b[0m\n\u001b[1;32m  10818\u001b[0m \u001b[0;34m\u001b[0m\u001b[0m\n\u001b[0;32m> 10819\u001b[0;31m         return merge(\n\u001b[0m\u001b[1;32m  10820\u001b[0m             \u001b[0mself\u001b[0m\u001b[0;34m,\u001b[0m\u001b[0;34m\u001b[0m\u001b[0;34m\u001b[0m\u001b[0m\n\u001b[1;32m  10821\u001b[0m             \u001b[0mright\u001b[0m\u001b[0;34m,\u001b[0m\u001b[0;34m\u001b[0m\u001b[0;34m\u001b[0m\u001b[0m\n\u001b[1;32m  10822\u001b[0m             \u001b[0mhow\u001b[0m\u001b[0;34m=\u001b[0m\u001b[0mhow\u001b[0m\u001b[0;34m,\u001b[0m\u001b[0;34m\u001b[0m\u001b[0;34m\u001b[0m\u001b[0m\n",
      "\u001b[0;32m/Library/Frameworks/Python.framework/Versions/3.12/lib/python3.12/site-packages/pandas/core/reshape/merge.py\u001b[0m in \u001b[0;36m?\u001b[0;34m(left, right, how, on, left_on, right_on, left_index, right_index, sort, suffixes, copy, indicator, validate)\u001b[0m\n\u001b[1;32m    180\u001b[0m             \u001b[0msuffixes\u001b[0m\u001b[0;34m=\u001b[0m\u001b[0msuffixes\u001b[0m\u001b[0;34m,\u001b[0m\u001b[0;34m\u001b[0m\u001b[0;34m\u001b[0m\u001b[0m\n\u001b[1;32m    181\u001b[0m             \u001b[0mindicator\u001b[0m\u001b[0;34m=\u001b[0m\u001b[0mindicator\u001b[0m\u001b[0;34m,\u001b[0m\u001b[0;34m\u001b[0m\u001b[0;34m\u001b[0m\u001b[0m\n\u001b[1;32m    182\u001b[0m             \u001b[0mvalidate\u001b[0m\u001b[0;34m=\u001b[0m\u001b[0mvalidate\u001b[0m\u001b[0;34m,\u001b[0m\u001b[0;34m\u001b[0m\u001b[0;34m\u001b[0m\u001b[0m\n\u001b[1;32m    183\u001b[0m         \u001b[0;34m)\u001b[0m\u001b[0;34m\u001b[0m\u001b[0;34m\u001b[0m\u001b[0m\n\u001b[0;32m--> 184\u001b[0;31m         \u001b[0;32mreturn\u001b[0m \u001b[0mop\u001b[0m\u001b[0;34m.\u001b[0m\u001b[0mget_result\u001b[0m\u001b[0;34m(\u001b[0m\u001b[0mcopy\u001b[0m\u001b[0;34m=\u001b[0m\u001b[0mcopy\u001b[0m\u001b[0;34m)\u001b[0m\u001b[0;34m\u001b[0m\u001b[0;34m\u001b[0m\u001b[0m\n\u001b[0m",
      "\u001b[0;32m/Library/Frameworks/Python.framework/Versions/3.12/lib/python3.12/site-packages/pandas/core/reshape/merge.py\u001b[0m in \u001b[0;36m?\u001b[0;34m(self, copy)\u001b[0m\n\u001b[1;32m    887\u001b[0m \u001b[0;34m\u001b[0m\u001b[0m\n\u001b[1;32m    888\u001b[0m         result = self._reindex_and_concat(\n\u001b[1;32m    889\u001b[0m             \u001b[0mjoin_index\u001b[0m\u001b[0;34m,\u001b[0m \u001b[0mleft_indexer\u001b[0m\u001b[0;34m,\u001b[0m \u001b[0mright_indexer\u001b[0m\u001b[0;34m,\u001b[0m \u001b[0mcopy\u001b[0m\u001b[0;34m=\u001b[0m\u001b[0mcopy\u001b[0m\u001b[0;34m\u001b[0m\u001b[0;34m\u001b[0m\u001b[0m\n\u001b[1;32m    890\u001b[0m         \u001b[0;34m)\u001b[0m\u001b[0;34m\u001b[0m\u001b[0;34m\u001b[0m\u001b[0m\n\u001b[0;32m--> 891\u001b[0;31m         \u001b[0mresult\u001b[0m \u001b[0;34m=\u001b[0m \u001b[0mresult\u001b[0m\u001b[0;34m.\u001b[0m\u001b[0m__finalize__\u001b[0m\u001b[0;34m(\u001b[0m\u001b[0mself\u001b[0m\u001b[0;34m,\u001b[0m \u001b[0mmethod\u001b[0m\u001b[0;34m=\u001b[0m\u001b[0mself\u001b[0m\u001b[0;34m.\u001b[0m\u001b[0m_merge_type\u001b[0m\u001b[0;34m)\u001b[0m\u001b[0;34m\u001b[0m\u001b[0;34m\u001b[0m\u001b[0m\n\u001b[0m\u001b[1;32m    892\u001b[0m \u001b[0;34m\u001b[0m\u001b[0m\n\u001b[1;32m    893\u001b[0m         \u001b[0;32mif\u001b[0m \u001b[0mself\u001b[0m\u001b[0;34m.\u001b[0m\u001b[0mindicator\u001b[0m\u001b[0;34m:\u001b[0m\u001b[0;34m\u001b[0m\u001b[0;34m\u001b[0m\u001b[0m\n\u001b[1;32m    894\u001b[0m             \u001b[0mresult\u001b[0m \u001b[0;34m=\u001b[0m \u001b[0mself\u001b[0m\u001b[0;34m.\u001b[0m\u001b[0m_indicator_post_merge\u001b[0m\u001b[0;34m(\u001b[0m\u001b[0mresult\u001b[0m\u001b[0;34m)\u001b[0m\u001b[0;34m\u001b[0m\u001b[0;34m\u001b[0m\u001b[0m\n",
      "\u001b[0;32m/Library/Frameworks/Python.framework/Versions/3.12/lib/python3.12/site-packages/pandas/core/generic.py\u001b[0m in \u001b[0;36m?\u001b[0;34m(self, other, method, **kwargs)\u001b[0m\n\u001b[0;32m-> 6233\u001b[0;31m     \u001b[0;34m@\u001b[0m\u001b[0mfinal\u001b[0m\u001b[0;34m\u001b[0m\u001b[0;34m\u001b[0m\u001b[0m\n\u001b[0m\u001b[1;32m   6234\u001b[0m     \u001b[0;32mdef\u001b[0m \u001b[0m__finalize__\u001b[0m\u001b[0;34m(\u001b[0m\u001b[0mself\u001b[0m\u001b[0;34m,\u001b[0m \u001b[0mother\u001b[0m\u001b[0;34m,\u001b[0m \u001b[0mmethod\u001b[0m\u001b[0;34m:\u001b[0m \u001b[0mstr\u001b[0m \u001b[0;34m|\u001b[0m \u001b[0;32mNone\u001b[0m \u001b[0;34m=\u001b[0m \u001b[0;32mNone\u001b[0m\u001b[0;34m,\u001b[0m \u001b[0;34m**\u001b[0m\u001b[0mkwargs\u001b[0m\u001b[0;34m)\u001b[0m \u001b[0;34m->\u001b[0m \u001b[0mSelf\u001b[0m\u001b[0;34m:\u001b[0m\u001b[0;34m\u001b[0m\u001b[0;34m\u001b[0m\u001b[0m\n\u001b[1;32m   6235\u001b[0m         \"\"\"\n\u001b[1;32m   6236\u001b[0m         \u001b[0mPropagate\u001b[0m \u001b[0mmetadata\u001b[0m \u001b[0;32mfrom\u001b[0m \u001b[0mother\u001b[0m \u001b[0mto\u001b[0m \u001b[0mself\u001b[0m\u001b[0;34m.\u001b[0m\u001b[0;34m\u001b[0m\u001b[0;34m\u001b[0m\u001b[0m\n",
      "\u001b[0;31mKeyboardInterrupt\u001b[0m: "
     ]
    }
   ],
   "source": [
    "\"\"\"Loading Labels & Merging (37.9s to load)\"\"\"\n",
    "\n",
    "# Loading Labels\n",
    "label_path = '/Users/veronicalarsson/Downloads/datasetcopy/List/train_images.txt'\n",
    "labeltranslator = pd.read_csv(label_path, sep = '/', header = None, names = ['Label','Filename'])\n",
    "print('Label-Translator Dataframe: \\n \\n', labeltranslator.head())\n",
    "\n",
    "# Merging \n",
    "merged_df = image_df.merge(right = labeltranslator, how = 'inner', on = 'Filename')\n",
    "print('Merged Dataframe: \\n \\n', merged_df.head())"
   ]
  },
  {
   "cell_type": "markdown",
   "id": "f56420b4",
   "metadata": {},
   "source": [
    "### Step 4: Testing Keras Model"
   ]
  },
  {
   "cell_type": "code",
   "execution_count": null,
   "id": "d5038f0d",
   "metadata": {},
   "outputs": [],
   "source": [
    "from sklearn.model_selection import train_test_split\n",
    "\n",
    "#In order to store the data as detailed as possible, we use the data split up into features and labels.\n",
    "model_data = merged_df\n",
    "#model_data = pd.read_csv('/Users/veronicalarsson/Downloads/model_data.csv') #8m 59.6s"
   ]
  },
  {
   "cell_type": "code",
   "execution_count": null,
   "id": "c08e0308",
   "metadata": {},
   "outputs": [],
   "source": [
    "# Split the DataFrame into features (pixels) and labels\n",
    "features = model_data.drop(columns=['Label_Encoded', 'Label', 'Image']).values  # Flattened and scaled features (pixel values)\n",
    "labels = model_data['Label_Encoded'].values  # Labels\n",
    "\n",
    "# Reshape the flattened feature data into images (assuming each image is 227x227 pixels)\n",
    "#image_shape = (227, 227)\n",
    "#features = features.reshape(-1, *image_shape, 1)  # Reshape flattened features into images and add 1 channel for grayscale images"
   ]
  },
  {
   "cell_type": "code",
   "execution_count": null,
   "id": "d5e25a33",
   "metadata": {},
   "outputs": [],
   "source": [
    "\"\"\"Creates training and test sets (2m 29.9s)\"\"\"\n",
    "X_train, X_test, y_train, y_test = train_test_split(features, labels, test_size=0.2, random_state=42)\n",
    "\n",
    "# Display the shapes of the resulting splits\n",
    "print(\"X_train shape:\", X_train.shape)\n",
    "print(\"X_test shape:\", X_test.shape)\n",
    "print(\"y_train shape:\", y_train.shape)\n",
    "print(\"y_test shape:\", y_test.shape)"
   ]
  },
  {
   "cell_type": "code",
   "execution_count": null,
   "id": "297533c7",
   "metadata": {},
   "outputs": [],
   "source": [
    "# Building subsets for testing\n",
    "# X_train = X_train[:100]\n",
    "# y_train = y_train[:100]\n",
    "# X_test = X_test[:100]\n",
    "# y_test = y_test[:100]\n",
    "\n",
    "# # Display the shapes of the resulting splits\n",
    "# print(\"X_train shape:\", X_train.shape)\n",
    "# print(\"X_test shape:\", X_test.shape)\n",
    "# print(\"y_train shape:\", y_train.shape)\n",
    "# print(\"y_test shape:\", y_test.shape)"
   ]
  },
  {
   "cell_type": "code",
   "execution_count": null,
   "id": "d16695fc",
   "metadata": {},
   "outputs": [],
   "source": [
    "\"\"\"Model 1\"\"\"\n",
    "#Building model\n",
    "\n",
    "xshape = X_train.shape\n",
    "model_1 = tf.keras.Sequential([\n",
    "    tf.keras.layers.Flatten(input_shape = xshape), #The 18144 represents the batch size (number of samples), and 10000 represents the number of features for each sample.\n",
    "    tf.keras.layers.Dense(128, activation='relu'),\n",
    "    tf.keras.layers.Dense(27)\n",
    "])\n",
    "\n",
    "#after the input layer, add the first convolutional layer with 32 2x2-filters \n",
    "model_1.add(Conv2D (kernel_size = (2,2), filters = 32, \n",
    "                      input_shape=train_tensors.shape[1:], activation='relu'))\n",
    "\n",
    "#add pooling layer\n",
    "model_1.add(MaxPooling2D(pool_size=2))\n",
    "\n",
    "#add the second convolutional layer with 64 2x2-filters \n",
    "model_1.add(Conv2D(kernel_size = 2, filters = 64, activation='relu'))\n",
    "model_1.add(MaxPooling2D(pool_size=2))\n",
    "#add the third convolutional layer with 128 2x2-filters \n",
    "model_1.add(Conv2D(kernel_size = 2, filters = 128, activation='relu'))\n",
    "#add a dropout layer so that each node has a chance of 20% to be dropped when training\n",
    "model_1.add(Dropout(0.2))\n",
    "model_1.add(MaxPooling2D(pool_size = 2))\n",
    "#add a global average pooling layer\n",
    "model_1.add(GlobalAveragePooling2D())\n",
    "#add the final fully connected output layer with 109 node for all 109 logo classes\n",
    "model_1.add(Dense(109, activation = 'softmax'))\n",
    "\n",
    "model_1.summary()\n",
    "\n"
   ]
  },
  {
   "cell_type": "code",
   "execution_count": null,
   "id": "6f136459",
   "metadata": {},
   "outputs": [],
   "source": [
    "#compiling neural network\n",
    "model_1.compile(optimizer='adam',\n",
    "              loss=tf.keras.losses.SparseCategoricalCrossentropy(from_logits=True),\n",
    "              metrics=['accuracy'])\n",
    "\n",
    "#To start training, call the model.fit method—so called because it \"fits\" the model to the training data:\n",
    "model_1.fit(X_train, y_train, epochs=10)\n",
    "\n",
    "#Next, compare how the model performs on the test dataset:\n",
    "test_loss, test_acc = model_1.evaluate(X_test,  y_test, verbose=2)\n",
    "\n",
    "print('\\nTest accuracy:', test_acc)\n",
    "\n",
    "#predictions\n",
    "probability_model = tf.keras.Sequential([model_1, \n",
    "                                         tf.keras.layers.Softmax()])\n",
    "\n",
    "predictions = probability_model.predict(X_test)\n",
    "print(predictions[0])\n",
    "#A prediction is an array of 10 numbers. They represent the model's \"confidence\" that the image corresponds to each of the 27 different logos.\n",
    "#You can see which label has the highest confidence value by calling:\n",
    "print(f'most probable logo is',np.argmax(predictions[0]))\n",
    "\n",
    "#the model is most confident that this image is XX\n",
    "#Examining the test label shows that this classification is correct?False?:\n",
    "\n",
    "y_test[0]"
   ]
  },
  {
   "cell_type": "code",
   "execution_count": null,
   "id": "1ca734af",
   "metadata": {},
   "outputs": [],
   "source": [
    "\"\"\"Model 2\"\"\"\n",
    "model_2 = Sequential()\n",
    "#model_2.add(keras.layers.Flatten(input_shape=100,100))\n",
    "model_2.add(keras.layers.Dense(10, activation='relu'))\n",
    "model_2.add(keras.layers.Dropout(0.2))\n",
    "model_2.add(keras.layers.Dense(27))\n",
    "\n",
    "model_2.summary()\n",
    "            \n",
    "predictions = model_2(X_train[:1]).numpy()\n",
    "predictions\n",
    "\n",
    "#Using `tf.nn.softmax` function converts these logits to *probabilities* for each class: \n",
    "tf.nn.softmax(predictions).numpy()\n",
    "\n",
    "#Defining a loss function for training using `losses.SparseCategoricalCrossentropy`:\n",
    "#This loss is equal to the negative log probability of the true class: \n",
    "#The loss is zero if the model is sure of the correct class.\n",
    "loss_fn = tf.keras.losses.SparseCategoricalCrossentropy(from_logits=True)\n",
    "\n",
    "loss_fn(y_train[:1], predictions).numpy()\n",
    "\n",
    "#Before training, configuring and compiling the model\n",
    "#Setting the optimizer class to adam, the loss to the loss_fn function defined earlier\n",
    "\n",
    "model_2.compile(optimizer='adam', loss=loss_fn, metrics=['accuracy'])\n",
    "\n",
    "#or as before but with sgd: model_2.compile(loss=\"sparse_categorical_crossentropy\",\n",
    "             #optimizer=\"sgd\",\n",
    "            # metrics=[\"accuracy\"]) we use sparse... bc sparse labels and classes are exclusive\n",
    "\n",
    "#training and evaluation\n",
    "history=model_2.fit(X_train, y_train, epochs=30, validation_data=(X_test, y_test))\n",
    "\n",
    "#or Model.evaluate` method checks the model's performance, usually on a validation set and test set\n",
    "#model_2.evaluate(x_test,  y_test, verbose=2)\n",
    "\n",
    "#model to return a probability, you can wrap the trained model, and attach the softmax to it:\n",
    "probability_model = tf.keras.Sequential([model_2, tf.keras.layers.Softmax()])\n",
    "probability_model(X_test[:5])\n"
   ]
  }
 ],
 "metadata": {
  "kernelspec": {
   "display_name": "Python 3 (ipykernel)",
   "language": "python",
   "name": "python3"
  },
  "language_info": {
   "codemirror_mode": {
    "name": "ipython",
    "version": 3
   },
   "file_extension": ".py",
   "mimetype": "text/x-python",
   "name": "python",
   "nbconvert_exporter": "python",
   "pygments_lexer": "ipython3",
   "version": "3.12.0"
  }
 },
 "nbformat": 4,
 "nbformat_minor": 5
}
